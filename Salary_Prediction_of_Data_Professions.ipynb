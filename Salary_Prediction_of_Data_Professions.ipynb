{
 "cells": [
  {
   "cell_type": "markdown",
   "id": "affe3354",
   "metadata": {},
   "source": [
    "# Komal Kumari"
   ]
  },
  {
   "cell_type": "markdown",
   "id": "44fe4c5a",
   "metadata": {},
   "source": [
    "# Internsip Offer Letter from Mentorness\n"
   ]
  },
  {
   "cell_type": "markdown",
   "id": "8d14abb0",
   "metadata": {},
   "source": [
    "\n",
    "# Project Name: Salary Predictions of Data Professions"
   ]
  },
  {
   "cell_type": "raw",
   "id": "3cf30c31",
   "metadata": {},
   "source": [
    "Welcome to the Machine Learning Internship, focused on predicting the salaries of data professionals. In\n",
    "this project, you will dive into the world of regression tasks and gain hands-on experience in data\n",
    "analysis, feature engineering, and machine learning model development. The goal is to predict the\n",
    "salaries of data professionals based on a rich dataset."
   ]
  },
  {
   "cell_type": "markdown",
   "id": "54185400",
   "metadata": {},
   "source": [
    "# Problem Statement:\n"
   ]
  },
  {
   "cell_type": "raw",
   "id": "4dd6316f",
   "metadata": {},
   "source": [
    "\n",
    "Salaries in the field of data professions vary widely based on factors such as experience, job role, and\n",
    "performance. Accurately predicting salaries for data professionals is essential for both job seekers and\n",
    "employers."
   ]
  },
  {
   "cell_type": "markdown",
   "id": "7b588085",
   "metadata": {},
   "source": [
    "# Your Mission:"
   ]
  },
  {
   "cell_type": "markdown",
   "id": "786be81f",
   "metadata": {},
   "source": [
    "\n",
    "1. Exploratory Data Analysis (EDA):\n",
    "2. Feature Engineering:\n",
    "3. Data Preprocessing:\n",
    "4. Machine Learning Model Development:\n",
    "5. Model Evaluation:\n",
    "6. ML Pipelines and Model Deployment:\n",
    "7. Recommendations:"
   ]
  },
  {
   "cell_type": "raw",
   "id": "7655b2bc",
   "metadata": {},
   "source": [
    "# step-1 Load the liabraies"
   ]
  },
  {
   "cell_type": "code",
   "execution_count": 3,
   "id": "fc33d5f4",
   "metadata": {},
   "outputs": [],
   "source": [
    "import pandas as pd\n",
    "import numpy as np\n",
    "import matplotlib.pyplot as plt\n",
    "import seaborn as sns\n",
    "import warnings \n",
    "warnings.filterwarnings('ignore')"
   ]
  },
  {
   "cell_type": "markdown",
   "id": "c824dee9",
   "metadata": {},
   "source": [
    "# step 2 Data loading and inspection phase "
   ]
  },
  {
   "cell_type": "code",
   "execution_count": 18,
   "id": "d08e9770",
   "metadata": {},
   "outputs": [
    {
     "data": {
      "text/html": [
       "<div>\n",
       "<style scoped>\n",
       "    .dataframe tbody tr th:only-of-type {\n",
       "        vertical-align: middle;\n",
       "    }\n",
       "\n",
       "    .dataframe tbody tr th {\n",
       "        vertical-align: top;\n",
       "    }\n",
       "\n",
       "    .dataframe thead th {\n",
       "        text-align: right;\n",
       "    }\n",
       "</style>\n",
       "<table border=\"1\" class=\"dataframe\">\n",
       "  <thead>\n",
       "    <tr style=\"text-align: right;\">\n",
       "      <th></th>\n",
       "      <th>FIRST NAME</th>\n",
       "      <th>LAST NAME</th>\n",
       "      <th>SEX</th>\n",
       "      <th>DOJ</th>\n",
       "      <th>CURRENT DATE</th>\n",
       "      <th>DESIGNATION</th>\n",
       "      <th>AGE</th>\n",
       "      <th>SALARY</th>\n",
       "      <th>UNIT</th>\n",
       "      <th>LEAVES USED</th>\n",
       "      <th>LEAVES REMAINING</th>\n",
       "      <th>RATINGS</th>\n",
       "      <th>PAST EXP</th>\n",
       "    </tr>\n",
       "  </thead>\n",
       "  <tbody>\n",
       "    <tr>\n",
       "      <th>0</th>\n",
       "      <td>TOMASA</td>\n",
       "      <td>ARMEN</td>\n",
       "      <td>F</td>\n",
       "      <td>5-18-2014</td>\n",
       "      <td>01-07-2016</td>\n",
       "      <td>Analyst</td>\n",
       "      <td>21.0</td>\n",
       "      <td>44570</td>\n",
       "      <td>Finance</td>\n",
       "      <td>24.0</td>\n",
       "      <td>6.0</td>\n",
       "      <td>2.0</td>\n",
       "      <td>0</td>\n",
       "    </tr>\n",
       "    <tr>\n",
       "      <th>1</th>\n",
       "      <td>ANNIE</td>\n",
       "      <td>NaN</td>\n",
       "      <td>F</td>\n",
       "      <td>NaN</td>\n",
       "      <td>01-07-2016</td>\n",
       "      <td>Associate</td>\n",
       "      <td>NaN</td>\n",
       "      <td>89207</td>\n",
       "      <td>Web</td>\n",
       "      <td>NaN</td>\n",
       "      <td>13.0</td>\n",
       "      <td>NaN</td>\n",
       "      <td>7</td>\n",
       "    </tr>\n",
       "    <tr>\n",
       "      <th>2</th>\n",
       "      <td>OLIVE</td>\n",
       "      <td>ANCY</td>\n",
       "      <td>F</td>\n",
       "      <td>7-28-2014</td>\n",
       "      <td>01-07-2016</td>\n",
       "      <td>Analyst</td>\n",
       "      <td>21.0</td>\n",
       "      <td>40955</td>\n",
       "      <td>Finance</td>\n",
       "      <td>23.0</td>\n",
       "      <td>7.0</td>\n",
       "      <td>3.0</td>\n",
       "      <td>0</td>\n",
       "    </tr>\n",
       "    <tr>\n",
       "      <th>3</th>\n",
       "      <td>CHERRY</td>\n",
       "      <td>AQUILAR</td>\n",
       "      <td>F</td>\n",
       "      <td>04-03-2013</td>\n",
       "      <td>01-07-2016</td>\n",
       "      <td>Analyst</td>\n",
       "      <td>22.0</td>\n",
       "      <td>45550</td>\n",
       "      <td>IT</td>\n",
       "      <td>22.0</td>\n",
       "      <td>8.0</td>\n",
       "      <td>3.0</td>\n",
       "      <td>0</td>\n",
       "    </tr>\n",
       "    <tr>\n",
       "      <th>4</th>\n",
       "      <td>LEON</td>\n",
       "      <td>ABOULAHOUD</td>\n",
       "      <td>M</td>\n",
       "      <td>11-20-2014</td>\n",
       "      <td>01-07-2016</td>\n",
       "      <td>Analyst</td>\n",
       "      <td>NaN</td>\n",
       "      <td>43161</td>\n",
       "      <td>Operations</td>\n",
       "      <td>27.0</td>\n",
       "      <td>3.0</td>\n",
       "      <td>NaN</td>\n",
       "      <td>3</td>\n",
       "    </tr>\n",
       "    <tr>\n",
       "      <th>...</th>\n",
       "      <td>...</td>\n",
       "      <td>...</td>\n",
       "      <td>...</td>\n",
       "      <td>...</td>\n",
       "      <td>...</td>\n",
       "      <td>...</td>\n",
       "      <td>...</td>\n",
       "      <td>...</td>\n",
       "      <td>...</td>\n",
       "      <td>...</td>\n",
       "      <td>...</td>\n",
       "      <td>...</td>\n",
       "      <td>...</td>\n",
       "    </tr>\n",
       "    <tr>\n",
       "      <th>2634</th>\n",
       "      <td>KATHERINE</td>\n",
       "      <td>ALSDON</td>\n",
       "      <td>F</td>\n",
       "      <td>6-28-2011</td>\n",
       "      <td>01-07-2016</td>\n",
       "      <td>Senior Manager</td>\n",
       "      <td>36.0</td>\n",
       "      <td>185977</td>\n",
       "      <td>Management</td>\n",
       "      <td>15.0</td>\n",
       "      <td>15.0</td>\n",
       "      <td>5.0</td>\n",
       "      <td>10</td>\n",
       "    </tr>\n",
       "    <tr>\n",
       "      <th>2635</th>\n",
       "      <td>LOUISE</td>\n",
       "      <td>ALTARAS</td>\n",
       "      <td>F</td>\n",
       "      <td>1-14-2014</td>\n",
       "      <td>01-07-2016</td>\n",
       "      <td>Analyst</td>\n",
       "      <td>23.0</td>\n",
       "      <td>45758</td>\n",
       "      <td>IT</td>\n",
       "      <td>17.0</td>\n",
       "      <td>13.0</td>\n",
       "      <td>2.0</td>\n",
       "      <td>0</td>\n",
       "    </tr>\n",
       "    <tr>\n",
       "      <th>2636</th>\n",
       "      <td>RENEE</td>\n",
       "      <td>ALVINO</td>\n",
       "      <td>F</td>\n",
       "      <td>1-23-2014</td>\n",
       "      <td>01-07-2016</td>\n",
       "      <td>Analyst</td>\n",
       "      <td>21.0</td>\n",
       "      <td>47315</td>\n",
       "      <td>Web</td>\n",
       "      <td>29.0</td>\n",
       "      <td>1.0</td>\n",
       "      <td>5.0</td>\n",
       "      <td>0</td>\n",
       "    </tr>\n",
       "    <tr>\n",
       "      <th>2637</th>\n",
       "      <td>TERI</td>\n",
       "      <td>ANASTASIO</td>\n",
       "      <td>F</td>\n",
       "      <td>3-17-2014</td>\n",
       "      <td>01-07-2016</td>\n",
       "      <td>Analyst</td>\n",
       "      <td>24.0</td>\n",
       "      <td>45172</td>\n",
       "      <td>Web</td>\n",
       "      <td>23.0</td>\n",
       "      <td>7.0</td>\n",
       "      <td>3.0</td>\n",
       "      <td>1</td>\n",
       "    </tr>\n",
       "    <tr>\n",
       "      <th>2638</th>\n",
       "      <td>GREGORY</td>\n",
       "      <td>ABARCA</td>\n",
       "      <td>M</td>\n",
       "      <td>9-18-2014</td>\n",
       "      <td>01-07-2016</td>\n",
       "      <td>Analyst</td>\n",
       "      <td>24.0</td>\n",
       "      <td>49176</td>\n",
       "      <td>Marketing</td>\n",
       "      <td>17.0</td>\n",
       "      <td>13.0</td>\n",
       "      <td>2.0</td>\n",
       "      <td>2</td>\n",
       "    </tr>\n",
       "  </tbody>\n",
       "</table>\n",
       "<p>2639 rows × 13 columns</p>\n",
       "</div>"
      ],
      "text/plain": [
       "     FIRST NAME   LAST NAME SEX         DOJ CURRENT DATE     DESIGNATION  \\\n",
       "0        TOMASA       ARMEN   F   5-18-2014   01-07-2016         Analyst   \n",
       "1         ANNIE         NaN   F         NaN   01-07-2016       Associate   \n",
       "2         OLIVE        ANCY   F   7-28-2014   01-07-2016         Analyst   \n",
       "3        CHERRY     AQUILAR   F  04-03-2013   01-07-2016         Analyst   \n",
       "4          LEON  ABOULAHOUD   M  11-20-2014   01-07-2016         Analyst   \n",
       "...         ...         ...  ..         ...          ...             ...   \n",
       "2634  KATHERINE      ALSDON   F   6-28-2011   01-07-2016  Senior Manager   \n",
       "2635     LOUISE     ALTARAS   F   1-14-2014   01-07-2016         Analyst   \n",
       "2636      RENEE      ALVINO   F   1-23-2014   01-07-2016         Analyst   \n",
       "2637       TERI   ANASTASIO   F   3-17-2014   01-07-2016         Analyst   \n",
       "2638    GREGORY      ABARCA   M   9-18-2014   01-07-2016         Analyst   \n",
       "\n",
       "       AGE  SALARY        UNIT  LEAVES USED  LEAVES REMAINING  RATINGS  \\\n",
       "0     21.0   44570     Finance         24.0               6.0      2.0   \n",
       "1      NaN   89207         Web          NaN              13.0      NaN   \n",
       "2     21.0   40955     Finance         23.0               7.0      3.0   \n",
       "3     22.0   45550          IT         22.0               8.0      3.0   \n",
       "4      NaN   43161  Operations         27.0               3.0      NaN   \n",
       "...    ...     ...         ...          ...               ...      ...   \n",
       "2634  36.0  185977  Management         15.0              15.0      5.0   \n",
       "2635  23.0   45758          IT         17.0              13.0      2.0   \n",
       "2636  21.0   47315         Web         29.0               1.0      5.0   \n",
       "2637  24.0   45172         Web         23.0               7.0      3.0   \n",
       "2638  24.0   49176   Marketing         17.0              13.0      2.0   \n",
       "\n",
       "      PAST EXP  \n",
       "0            0  \n",
       "1            7  \n",
       "2            0  \n",
       "3            0  \n",
       "4            3  \n",
       "...        ...  \n",
       "2634        10  \n",
       "2635         0  \n",
       "2636         0  \n",
       "2637         1  \n",
       "2638         2  \n",
       "\n",
       "[2639 rows x 13 columns]"
      ]
     },
     "execution_count": 18,
     "metadata": {},
     "output_type": "execute_result"
    }
   ],
   "source": [
    "df = pd.read_csv('Salary Prediction of Data Professions.csv')\n",
    "df"
   ]
  },
  {
   "cell_type": "code",
   "execution_count": 7,
   "id": "4d54dc4e",
   "metadata": {},
   "outputs": [],
   "source": [
    "# data inspection"
   ]
  },
  {
   "cell_type": "code",
   "execution_count": 19,
   "id": "6de4f50e",
   "metadata": {},
   "outputs": [
    {
     "data": {
      "text/plain": [
       "(2639, 13)"
      ]
     },
     "execution_count": 19,
     "metadata": {},
     "output_type": "execute_result"
    }
   ],
   "source": [
    "df.shape"
   ]
  },
  {
   "cell_type": "code",
   "execution_count": 20,
   "id": "657eb5e1",
   "metadata": {},
   "outputs": [
    {
     "data": {
      "text/html": [
       "<div>\n",
       "<style scoped>\n",
       "    .dataframe tbody tr th:only-of-type {\n",
       "        vertical-align: middle;\n",
       "    }\n",
       "\n",
       "    .dataframe tbody tr th {\n",
       "        vertical-align: top;\n",
       "    }\n",
       "\n",
       "    .dataframe thead th {\n",
       "        text-align: right;\n",
       "    }\n",
       "</style>\n",
       "<table border=\"1\" class=\"dataframe\">\n",
       "  <thead>\n",
       "    <tr style=\"text-align: right;\">\n",
       "      <th></th>\n",
       "      <th>FIRST NAME</th>\n",
       "      <th>LAST NAME</th>\n",
       "      <th>SEX</th>\n",
       "      <th>DOJ</th>\n",
       "      <th>CURRENT DATE</th>\n",
       "      <th>DESIGNATION</th>\n",
       "      <th>AGE</th>\n",
       "      <th>SALARY</th>\n",
       "      <th>UNIT</th>\n",
       "      <th>LEAVES USED</th>\n",
       "      <th>LEAVES REMAINING</th>\n",
       "      <th>RATINGS</th>\n",
       "      <th>PAST EXP</th>\n",
       "    </tr>\n",
       "  </thead>\n",
       "  <tbody>\n",
       "    <tr>\n",
       "      <th>0</th>\n",
       "      <td>TOMASA</td>\n",
       "      <td>ARMEN</td>\n",
       "      <td>F</td>\n",
       "      <td>5-18-2014</td>\n",
       "      <td>01-07-2016</td>\n",
       "      <td>Analyst</td>\n",
       "      <td>21.0</td>\n",
       "      <td>44570</td>\n",
       "      <td>Finance</td>\n",
       "      <td>24.0</td>\n",
       "      <td>6.0</td>\n",
       "      <td>2.0</td>\n",
       "      <td>0</td>\n",
       "    </tr>\n",
       "    <tr>\n",
       "      <th>1</th>\n",
       "      <td>ANNIE</td>\n",
       "      <td>NaN</td>\n",
       "      <td>F</td>\n",
       "      <td>NaN</td>\n",
       "      <td>01-07-2016</td>\n",
       "      <td>Associate</td>\n",
       "      <td>NaN</td>\n",
       "      <td>89207</td>\n",
       "      <td>Web</td>\n",
       "      <td>NaN</td>\n",
       "      <td>13.0</td>\n",
       "      <td>NaN</td>\n",
       "      <td>7</td>\n",
       "    </tr>\n",
       "    <tr>\n",
       "      <th>2</th>\n",
       "      <td>OLIVE</td>\n",
       "      <td>ANCY</td>\n",
       "      <td>F</td>\n",
       "      <td>7-28-2014</td>\n",
       "      <td>01-07-2016</td>\n",
       "      <td>Analyst</td>\n",
       "      <td>21.0</td>\n",
       "      <td>40955</td>\n",
       "      <td>Finance</td>\n",
       "      <td>23.0</td>\n",
       "      <td>7.0</td>\n",
       "      <td>3.0</td>\n",
       "      <td>0</td>\n",
       "    </tr>\n",
       "    <tr>\n",
       "      <th>3</th>\n",
       "      <td>CHERRY</td>\n",
       "      <td>AQUILAR</td>\n",
       "      <td>F</td>\n",
       "      <td>04-03-2013</td>\n",
       "      <td>01-07-2016</td>\n",
       "      <td>Analyst</td>\n",
       "      <td>22.0</td>\n",
       "      <td>45550</td>\n",
       "      <td>IT</td>\n",
       "      <td>22.0</td>\n",
       "      <td>8.0</td>\n",
       "      <td>3.0</td>\n",
       "      <td>0</td>\n",
       "    </tr>\n",
       "    <tr>\n",
       "      <th>4</th>\n",
       "      <td>LEON</td>\n",
       "      <td>ABOULAHOUD</td>\n",
       "      <td>M</td>\n",
       "      <td>11-20-2014</td>\n",
       "      <td>01-07-2016</td>\n",
       "      <td>Analyst</td>\n",
       "      <td>NaN</td>\n",
       "      <td>43161</td>\n",
       "      <td>Operations</td>\n",
       "      <td>27.0</td>\n",
       "      <td>3.0</td>\n",
       "      <td>NaN</td>\n",
       "      <td>3</td>\n",
       "    </tr>\n",
       "  </tbody>\n",
       "</table>\n",
       "</div>"
      ],
      "text/plain": [
       "  FIRST NAME   LAST NAME SEX         DOJ CURRENT DATE DESIGNATION   AGE  \\\n",
       "0     TOMASA       ARMEN   F   5-18-2014   01-07-2016     Analyst  21.0   \n",
       "1      ANNIE         NaN   F         NaN   01-07-2016   Associate   NaN   \n",
       "2      OLIVE        ANCY   F   7-28-2014   01-07-2016     Analyst  21.0   \n",
       "3     CHERRY     AQUILAR   F  04-03-2013   01-07-2016     Analyst  22.0   \n",
       "4       LEON  ABOULAHOUD   M  11-20-2014   01-07-2016     Analyst   NaN   \n",
       "\n",
       "   SALARY        UNIT  LEAVES USED  LEAVES REMAINING  RATINGS  PAST EXP  \n",
       "0   44570     Finance         24.0               6.0      2.0         0  \n",
       "1   89207         Web          NaN              13.0      NaN         7  \n",
       "2   40955     Finance         23.0               7.0      3.0         0  \n",
       "3   45550          IT         22.0               8.0      3.0         0  \n",
       "4   43161  Operations         27.0               3.0      NaN         3  "
      ]
     },
     "execution_count": 20,
     "metadata": {},
     "output_type": "execute_result"
    }
   ],
   "source": [
    "df.head()"
   ]
  },
  {
   "cell_type": "markdown",
   "id": "921c5d51",
   "metadata": {},
   "source": [
    "**Insigh**\n",
    "***we have a lot of categorical values, this mean we have to do encoding"
   ]
  },
  {
   "cell_type": "code",
   "execution_count": 21,
   "id": "eb4c4bbe",
   "metadata": {},
   "outputs": [],
   "source": [
    "# data information"
   ]
  },
  {
   "cell_type": "code",
   "execution_count": 23,
   "id": "43f09d4b",
   "metadata": {},
   "outputs": [
    {
     "name": "stdout",
     "output_type": "stream",
     "text": [
      "<class 'pandas.core.frame.DataFrame'>\n",
      "RangeIndex: 2639 entries, 0 to 2638\n",
      "Data columns (total 13 columns):\n",
      " #   Column            Non-Null Count  Dtype  \n",
      "---  ------            --------------  -----  \n",
      " 0   FIRST NAME        2639 non-null   object \n",
      " 1   LAST NAME         2637 non-null   object \n",
      " 2   SEX               2639 non-null   object \n",
      " 3   DOJ               2638 non-null   object \n",
      " 4   CURRENT DATE      2639 non-null   object \n",
      " 5   DESIGNATION       2639 non-null   object \n",
      " 6   AGE               2636 non-null   float64\n",
      " 7   SALARY            2639 non-null   int64  \n",
      " 8   UNIT              2639 non-null   object \n",
      " 9   LEAVES USED       2636 non-null   float64\n",
      " 10  LEAVES REMAINING  2637 non-null   float64\n",
      " 11  RATINGS           2637 non-null   float64\n",
      " 12  PAST EXP          2639 non-null   int64  \n",
      "dtypes: float64(4), int64(2), object(7)\n",
      "memory usage: 268.2+ KB\n"
     ]
    }
   ],
   "source": [
    "df.info()"
   ]
  },
  {
   "cell_type": "code",
   "execution_count": 11,
   "id": "c42f0a91",
   "metadata": {},
   "outputs": [
    {
     "data": {
      "text/plain": [
       "161"
      ]
     },
     "execution_count": 11,
     "metadata": {},
     "output_type": "execute_result"
    }
   ],
   "source": [
    "df.duplicated().sum()"
   ]
  },
  {
   "cell_type": "code",
   "execution_count": 24,
   "id": "78fd98ef",
   "metadata": {},
   "outputs": [],
   "source": [
    "#dropna\n",
    "df = df.dropna()"
   ]
  },
  {
   "cell_type": "code",
   "execution_count": 25,
   "id": "e6c2081d",
   "metadata": {},
   "outputs": [
    {
     "data": {
      "text/plain": [
       "FIRST NAME          0\n",
       "LAST NAME           0\n",
       "SEX                 0\n",
       "DOJ                 0\n",
       "CURRENT DATE        0\n",
       "DESIGNATION         0\n",
       "AGE                 0\n",
       "SALARY              0\n",
       "UNIT                0\n",
       "LEAVES USED         0\n",
       "LEAVES REMAINING    0\n",
       "RATINGS             0\n",
       "PAST EXP            0\n",
       "dtype: int64"
      ]
     },
     "execution_count": 25,
     "metadata": {},
     "output_type": "execute_result"
    }
   ],
   "source": [
    "df.isnull().sum()"
   ]
  },
  {
   "cell_type": "code",
   "execution_count": 26,
   "id": "c81b5271",
   "metadata": {},
   "outputs": [
    {
     "data": {
      "text/html": [
       "<div>\n",
       "<style scoped>\n",
       "    .dataframe tbody tr th:only-of-type {\n",
       "        vertical-align: middle;\n",
       "    }\n",
       "\n",
       "    .dataframe tbody tr th {\n",
       "        vertical-align: top;\n",
       "    }\n",
       "\n",
       "    .dataframe thead th {\n",
       "        text-align: right;\n",
       "    }\n",
       "</style>\n",
       "<table border=\"1\" class=\"dataframe\">\n",
       "  <thead>\n",
       "    <tr style=\"text-align: right;\">\n",
       "      <th></th>\n",
       "      <th>AGE</th>\n",
       "      <th>SALARY</th>\n",
       "      <th>LEAVES USED</th>\n",
       "      <th>LEAVES REMAINING</th>\n",
       "      <th>RATINGS</th>\n",
       "      <th>PAST EXP</th>\n",
       "    </tr>\n",
       "  </thead>\n",
       "  <tbody>\n",
       "    <tr>\n",
       "      <th>count</th>\n",
       "      <td>2631.000000</td>\n",
       "      <td>2631.000000</td>\n",
       "      <td>2631.000000</td>\n",
       "      <td>2631.000000</td>\n",
       "      <td>2631.000000</td>\n",
       "      <td>2631.000000</td>\n",
       "    </tr>\n",
       "    <tr>\n",
       "      <th>mean</th>\n",
       "      <td>24.754846</td>\n",
       "      <td>58117.644242</td>\n",
       "      <td>22.498670</td>\n",
       "      <td>7.501330</td>\n",
       "      <td>3.486507</td>\n",
       "      <td>1.562904</td>\n",
       "    </tr>\n",
       "    <tr>\n",
       "      <th>std</th>\n",
       "      <td>3.904705</td>\n",
       "      <td>36867.732515</td>\n",
       "      <td>4.603014</td>\n",
       "      <td>4.603014</td>\n",
       "      <td>1.114248</td>\n",
       "      <td>2.725973</td>\n",
       "    </tr>\n",
       "    <tr>\n",
       "      <th>min</th>\n",
       "      <td>21.000000</td>\n",
       "      <td>40001.000000</td>\n",
       "      <td>15.000000</td>\n",
       "      <td>0.000000</td>\n",
       "      <td>2.000000</td>\n",
       "      <td>0.000000</td>\n",
       "    </tr>\n",
       "    <tr>\n",
       "      <th>25%</th>\n",
       "      <td>22.000000</td>\n",
       "      <td>43418.000000</td>\n",
       "      <td>19.000000</td>\n",
       "      <td>4.000000</td>\n",
       "      <td>2.000000</td>\n",
       "      <td>0.000000</td>\n",
       "    </tr>\n",
       "    <tr>\n",
       "      <th>50%</th>\n",
       "      <td>24.000000</td>\n",
       "      <td>46783.000000</td>\n",
       "      <td>22.000000</td>\n",
       "      <td>8.000000</td>\n",
       "      <td>3.000000</td>\n",
       "      <td>1.000000</td>\n",
       "    </tr>\n",
       "    <tr>\n",
       "      <th>75%</th>\n",
       "      <td>25.000000</td>\n",
       "      <td>51401.500000</td>\n",
       "      <td>26.000000</td>\n",
       "      <td>11.000000</td>\n",
       "      <td>4.000000</td>\n",
       "      <td>2.000000</td>\n",
       "    </tr>\n",
       "    <tr>\n",
       "      <th>max</th>\n",
       "      <td>45.000000</td>\n",
       "      <td>388112.000000</td>\n",
       "      <td>30.000000</td>\n",
       "      <td>15.000000</td>\n",
       "      <td>5.000000</td>\n",
       "      <td>23.000000</td>\n",
       "    </tr>\n",
       "  </tbody>\n",
       "</table>\n",
       "</div>"
      ],
      "text/plain": [
       "               AGE         SALARY  LEAVES USED  LEAVES REMAINING      RATINGS  \\\n",
       "count  2631.000000    2631.000000  2631.000000       2631.000000  2631.000000   \n",
       "mean     24.754846   58117.644242    22.498670          7.501330     3.486507   \n",
       "std       3.904705   36867.732515     4.603014          4.603014     1.114248   \n",
       "min      21.000000   40001.000000    15.000000          0.000000     2.000000   \n",
       "25%      22.000000   43418.000000    19.000000          4.000000     2.000000   \n",
       "50%      24.000000   46783.000000    22.000000          8.000000     3.000000   \n",
       "75%      25.000000   51401.500000    26.000000         11.000000     4.000000   \n",
       "max      45.000000  388112.000000    30.000000         15.000000     5.000000   \n",
       "\n",
       "          PAST EXP  \n",
       "count  2631.000000  \n",
       "mean      1.562904  \n",
       "std       2.725973  \n",
       "min       0.000000  \n",
       "25%       0.000000  \n",
       "50%       1.000000  \n",
       "75%       2.000000  \n",
       "max      23.000000  "
      ]
     },
     "execution_count": 26,
     "metadata": {},
     "output_type": "execute_result"
    }
   ],
   "source": [
    "df.describe()"
   ]
  },
  {
   "cell_type": "code",
   "execution_count": 27,
   "id": "96a986d8",
   "metadata": {},
   "outputs": [
    {
     "data": {
      "image/png": "[encoded data removed]",
      "text/plain": [
       "<Figure size 500x500 with 1 Axes>"
      ]
     },
     "metadata": {},
     "output_type": "display_data"
    },
    {
     "data": {
      "image/png": "[encoded data removed]",
      "text/plain": [
       "<Figure size 600x600 with 1 Axes>"
      ]
     },
     "metadata": {},
     "output_type": "display_data"
    }
   ],
   "source": [
    "# Histogram for Salary Distribution\n",
    "plt.figure(figsize=(5,5))\n",
    "sns.histplot(df['SALARY'], bins=30, kde=True)\n",
    "plt.title('salary distribution')\n",
    "plt.xlabel('salary')\n",
    "plt.ylabel('Frequancy')\n",
    "plt.show()\n",
    "\n",
    "# Boxplot for Salary by Designation\n",
    "plt.figure(figsize=(6, 6))\n",
    "sns.boxplot(x='DESIGNATION', y='SALARY', data=df)\n",
    "plt.title('Salary by Designation')\n",
    "plt.xticks(rotation=45)\n",
    "plt.show()"
   ]
  },
  {
   "cell_type": "code",
   "execution_count": 13,
   "id": "991328ab",
   "metadata": {},
   "outputs": [
    {
     "name": "stdout",
     "output_type": "stream",
     "text": [
      "Outliers based on Z-score:\n",
      "41      175497\n",
      "73      193621\n",
      "114     189435\n",
      "160     323196\n",
      "166     388112\n",
      "         ...  \n",
      "2546    213987\n",
      "2575    195985\n",
      "2584    187837\n",
      "2595    194701\n",
      "2634    185977\n",
      "Name: SALARY, Length: 76, dtype: int64\n"
     ]
    }
   ],
   "source": [
    "from scipy import stats\n",
    "\n",
    "# Calculate z-scores for Salary\n",
    "z_scores = stats.zscore(df['SALARY'])\n",
    "\n",
    "# Identify outliers (threshold z-score > 3 or < -3)\n",
    "outliers = df['SALARY'][np.abs(z_scores) > 3]\n",
    "\n",
    "print(\"Outliers based on Z-score:\")\n",
    "print(outliers)\n"
   ]
  },
  {
   "cell_type": "code",
   "execution_count": 14,
   "id": "d338a2e8",
   "metadata": {},
   "outputs": [
    {
     "name": "stdout",
     "output_type": "stream",
     "text": [
      "Outliers based on IQR:\n",
      "8        63478\n",
      "32       68295\n",
      "33       73397\n",
      "41      175497\n",
      "45       96378\n",
      "         ...  \n",
      "2603    154120\n",
      "2608     86705\n",
      "2611     94345\n",
      "2618     66661\n",
      "2634    185977\n",
      "Name: SALARY, Length: 452, dtype: int64\n"
     ]
    }
   ],
   "source": [
    "# Calculate IQR for Salary\n",
    "Q1 = df['SALARY'].quantile(0.25)\n",
    "Q3 = df['SALARY'].quantile(0.75)\n",
    "IQR = Q3 - Q1\n",
    "\n",
    "# Identify outliers based on IQR\n",
    "lower_bound = Q1 - 1.5 * IQR\n",
    "upper_bound = Q3 + 1.5 * IQR\n",
    "outliers_iqr = df[(df['SALARY'] < lower_bound) | (df['SALARY'] > upper_bound)]['SALARY']\n",
    "\n",
    "print(\"Outliers based on IQR:\")\n",
    "print(outliers_iqr)\n"
   ]
  },
  {
   "cell_type": "code",
   "execution_count": 15,
   "id": "9cd84e6f",
   "metadata": {},
   "outputs": [
    {
     "data": {
      "text/plain": [
       "(2631, 13)"
      ]
     },
     "execution_count": 15,
     "metadata": {},
     "output_type": "execute_result"
    }
   ],
   "source": [
    "df.shape"
   ]
  },
  {
   "cell_type": "markdown",
   "id": "2509c7aa",
   "metadata": {},
   "source": [
    "\n",
    "# 2. Feature Engineering\n"
   ]
  },
  {
   "cell_type": "markdown",
   "id": "751fd67c",
   "metadata": {},
   "source": [
    "Creating New Features\n"
   ]
  },
  {
   "cell_type": "code",
   "execution_count": 28,
   "id": "2c40a2ae",
   "metadata": {},
   "outputs": [
    {
     "name": "stdout",
     "output_type": "stream",
     "text": [
      "         DOJ CURRENT DATE    TENURE\n",
      "0 2014-05-18   2016-01-07  1.641096\n",
      "2 2014-07-28   2016-01-07  1.446575\n",
      "3 2013-04-03   2016-01-07  2.764384\n",
      "6 2013-09-02   2016-01-07  2.347945\n",
      "8 2014-06-29   2016-01-07  1.526027\n"
     ]
    }
   ],
   "source": [
    "from datetime import datetime\n",
    "\n",
    "# Convert dates to datetime\n",
    "df['DOJ'] = pd.to_datetime(df['DOJ'])\n",
    "df['CURRENT DATE'] = pd.to_datetime(df['CURRENT DATE'])\n",
    "\n",
    "# Calculate tenure\n",
    "df['TENURE'] = (df['CURRENT DATE'] - df['DOJ']).dt.days / 365\n",
    "\n",
    "# Display the new feature\n",
    "print(df[['DOJ', 'CURRENT DATE', 'TENURE']].head())\n"
   ]
  },
  {
   "cell_type": "markdown",
   "id": "26a6467b",
   "metadata": {},
   "source": [
    "Transforming Existing Features\n"
   ]
  },
  {
   "cell_type": "code",
   "execution_count": 29,
   "id": "6e0db252",
   "metadata": {},
   "outputs": [
    {
     "name": "stdout",
     "output_type": "stream",
     "text": [
      "   SALARY  LOG_SALARY\n",
      "0   44570   10.704816\n",
      "2   40955   10.620229\n",
      "3   45550   10.726566\n",
      "6   40339   10.605074\n",
      "8   63478   11.058449\n"
     ]
    }
   ],
   "source": [
    "# Log transformation for skewed features (if needed)\n",
    "df['LOG_SALARY'] = df['SALARY'].apply(lambda x: np.log(x) if x > 0 else 0)\n",
    "\n",
    "# Display the transformed feature\n",
    "print(df[['SALARY', 'LOG_SALARY']].head())\n"
   ]
  },
  {
   "cell_type": "markdown",
   "id": "3747c596",
   "metadata": {},
   "source": [
    "# 3. Data Preprocessing\n",
    " "
   ]
  },
  {
   "cell_type": "code",
   "execution_count": 30,
   "id": "ae24d4d4",
   "metadata": {},
   "outputs": [
    {
     "name": "stdout",
     "output_type": "stream",
     "text": [
      "FIRST NAME          0\n",
      "LAST NAME           0\n",
      "SEX                 0\n",
      "DOJ                 0\n",
      "CURRENT DATE        0\n",
      "DESIGNATION         0\n",
      "AGE                 0\n",
      "SALARY              0\n",
      "UNIT                0\n",
      "LEAVES USED         0\n",
      "LEAVES REMAINING    0\n",
      "RATINGS             0\n",
      "PAST EXP            0\n",
      "TENURE              0\n",
      "LOG_SALARY          0\n",
      "dtype: int64\n"
     ]
    }
   ],
   "source": [
    "# Impute missing values (example: with median)\n",
    "df['PAST EXP'].fillna(df['PAST EXP'].median(), inplace=True)\n",
    "\n",
    "# Drop rows with missing target values\n",
    "df.dropna(subset=['SALARY'], inplace=True)\n",
    "\n",
    "# Check the updated dataset for missing values\n",
    "print(df.isnull().sum())\n"
   ]
  },
  {
   "cell_type": "markdown",
   "id": "d712b08f",
   "metadata": {},
   "source": [
    "Encoding Categorical Variables\n"
   ]
  },
  {
   "cell_type": "code",
   "execution_count": 35,
   "id": "59bd4105",
   "metadata": {},
   "outputs": [],
   "source": [
    "# One-Hot Encoding for categorical features\n",
    "df_encoded = pd.get_dummies(df, columns=['SEX', 'DESIGNATION', 'UNIT'], drop_first=True)\n",
    "\n"
   ]
  },
  {
   "cell_type": "code",
   "execution_count": 36,
   "id": "83d500c1",
   "metadata": {},
   "outputs": [
    {
     "name": "stdout",
     "output_type": "stream",
     "text": [
      "  FIRST NAME LAST NAME        DOJ CURRENT DATE   AGE  SALARY  LEAVES USED  \\\n",
      "0     TOMASA     ARMEN 2014-05-18   2016-01-07  21.0   44570         24.0   \n",
      "2      OLIVE      ANCY 2014-07-28   2016-01-07  21.0   40955         23.0   \n",
      "3     CHERRY   AQUILAR 2013-04-03   2016-01-07  22.0   45550         22.0   \n",
      "6     ELLIOT    AGULAR 2013-09-02   2016-01-07  22.0   40339         19.0   \n",
      "8      KATHY     ALSOP 2014-06-29   2016-01-07  28.0   63478         20.0   \n",
      "\n",
      "   LEAVES REMAINING  RATINGS  PAST EXP  ...  DESIGNATION_Associate  \\\n",
      "0               6.0      2.0         0  ...                  False   \n",
      "2               7.0      3.0         0  ...                  False   \n",
      "3               8.0      3.0         0  ...                  False   \n",
      "6              11.0      5.0         0  ...                  False   \n",
      "8              10.0      3.0         1  ...                  False   \n",
      "\n",
      "   DESIGNATION_Director  DESIGNATION_Manager  DESIGNATION_Senior Analyst  \\\n",
      "0                 False                False                       False   \n",
      "2                 False                False                       False   \n",
      "3                 False                False                       False   \n",
      "6                 False                False                       False   \n",
      "8                 False                False                        True   \n",
      "\n",
      "   DESIGNATION_Senior Manager  UNIT_IT  UNIT_Management  UNIT_Marketing  \\\n",
      "0                       False    False            False           False   \n",
      "2                       False    False            False           False   \n",
      "3                       False     True            False           False   \n",
      "6                       False    False            False            True   \n",
      "8                       False    False            False           False   \n",
      "\n",
      "   UNIT_Operations  UNIT_Web  \n",
      "0            False     False  \n",
      "2            False     False  \n",
      "3            False     False  \n",
      "6            False     False  \n",
      "8             True     False  \n",
      "\n",
      "[5 rows x 23 columns]\n"
     ]
    }
   ],
   "source": [
    "\n",
    "# Display the encoded dataset\n",
    "print(df_encoded.head())"
   ]
  },
  {
   "cell_type": "markdown",
   "id": "0601f717",
   "metadata": {},
   "source": [
    "# Feature Scaling\n"
   ]
  },
  {
   "cell_type": "code",
   "execution_count": 37,
   "id": "af707b44",
   "metadata": {},
   "outputs": [],
   "source": [
    "from sklearn.preprocessing import StandardScaler\n",
    "\n",
    "# Select numerical features for scaling\n",
    "num_features = ['AGE', 'LEAVES USED', 'LEAVES REMAINING', 'RATINGS', 'PAST EXP', 'TENURE']\n",
    "\n"
   ]
  },
  {
   "cell_type": "code",
   "execution_count": 38,
   "id": "bd7cc7bc",
   "metadata": {},
   "outputs": [],
   "source": [
    "# Initialize the scaler\n",
    "scaler = StandardScaler()\n",
    "\n",
    "# Apply scaling\n",
    "df_encoded[num_features] = scaler.fit_transform(df_encoded[num_features])"
   ]
  },
  {
   "cell_type": "markdown",
   "id": "b561b08e",
   "metadata": {},
   "source": [
    "# 4. Machine Learning Model Development\n"
   ]
  },
  {
   "cell_type": "raw",
   "id": "381325bb",
   "metadata": {},
   "source": [
    "#Splitting the Data\n"
   ]
  },
  {
   "cell_type": "code",
   "execution_count": 39,
   "id": "d398a125",
   "metadata": {},
   "outputs": [],
   "source": [
    "from sklearn.model_selection import train_test_split\n",
    "\n",
    "# Define features (X) and target (y)\n",
    "X = df_encoded.drop(columns=['FIRST NAME', 'LAST NAME', 'DOJ', 'CURRENT DATE', 'SALARY', 'LOG_SALARY'])\n",
    "y = df_encoded['SALARY']\n",
    "\n"
   ]
  },
  {
   "cell_type": "code",
   "execution_count": 40,
   "id": "c684dca9",
   "metadata": {},
   "outputs": [
    {
     "name": "stdout",
     "output_type": "stream",
     "text": [
      "Training set size: 2104\n",
      "Testing set size: 527\n"
     ]
    }
   ],
   "source": [
    "# Split the data into training and testing sets\n",
    "X_train, X_test, y_train, y_test = train_test_split(X, y, test_size=0.2, random_state=42)\n",
    "\n",
    "print(f'Training set size: {X_train.shape[0]}')\n",
    "print(f'Testing set size: {X_test.shape[0]}')\n"
   ]
  },
  {
   "cell_type": "markdown",
   "id": "6c9c56fa",
   "metadata": {},
   "source": [
    "Training Models\n"
   ]
  },
  {
   "cell_type": "code",
   "execution_count": 41,
   "id": "2f647003",
   "metadata": {},
   "outputs": [
    {
     "data": {
      "text/html": [
       "<style>#sk-container-id-1 {color: black;}#sk-container-id-1 pre{padding: 0;}#sk-container-id-1 div.sk-toggleable {background-color: white;}#sk-container-id-1 label.sk-toggleable__label {cursor: pointer;display: block;width: 100%;margin-bottom: 0;padding: 0.3em;box-sizing: border-box;text-align: center;}#sk-container-id-1 label.sk-toggleable__label-arrow:before {content: \"▸\";float: left;margin-right: 0.25em;color: #696969;}#sk-container-id-1 label.sk-toggleable__label-arrow:hover:before {color: black;}#sk-container-id-1 div.sk-estimator:hover label.sk-toggleable__label-arrow:before {color: black;}#sk-container-id-1 div.sk-toggleable__content {max-height: 0;max-width: 0;overflow: hidden;text-align: left;background-color: #f0f8ff;}#sk-container-id-1 div.sk-toggleable__content pre {margin: 0.2em;color: black;border-radius: 0.25em;background-color: #f0f8ff;}#sk-container-id-1 input.sk-toggleable__control:checked~div.sk-toggleable__content {max-height: 200px;max-width: 100%;overflow: auto;}#sk-container-id-1 input.sk-toggleable__control:checked~label.sk-toggleable__label-arrow:before {content: \"▾\";}#sk-container-id-1 div.sk-estimator input.sk-toggleable__control:checked~label.sk-toggleable__label {background-color: #d4ebff;}#sk-container-id-1 div.sk-label input.sk-toggleable__control:checked~label.sk-toggleable__label {background-color: #d4ebff;}#sk-container-id-1 input.sk-hidden--visually {border: 0;clip: rect(1px 1px 1px 1px);clip: rect(1px, 1px, 1px, 1px);height: 1px;margin: -1px;overflow: hidden;padding: 0;position: absolute;width: 1px;}#sk-container-id-1 div.sk-estimator {font-family: monospace;background-color: #f0f8ff;border: 1px dotted black;border-radius: 0.25em;box-sizing: border-box;margin-bottom: 0.5em;}#sk-container-id-1 div.sk-estimator:hover {background-color: #d4ebff;}#sk-container-id-1 div.sk-parallel-item::after {content: \"\";width: 100%;border-bottom: 1px solid gray;flex-grow: 1;}#sk-container-id-1 div.sk-label:hover label.sk-toggleable__label {background-color: #d4ebff;}#sk-container-id-1 div.sk-serial::before {content: \"\";position: absolute;border-left: 1px solid gray;box-sizing: border-box;top: 0;bottom: 0;left: 50%;z-index: 0;}#sk-container-id-1 div.sk-serial {display: flex;flex-direction: column;align-items: center;background-color: white;padding-right: 0.2em;padding-left: 0.2em;position: relative;}#sk-container-id-1 div.sk-item {position: relative;z-index: 1;}#sk-container-id-1 div.sk-parallel {display: flex;align-items: stretch;justify-content: center;background-color: white;position: relative;}#sk-container-id-1 div.sk-item::before, #sk-container-id-1 div.sk-parallel-item::before {content: \"\";position: absolute;border-left: 1px solid gray;box-sizing: border-box;top: 0;bottom: 0;left: 50%;z-index: -1;}#sk-container-id-1 div.sk-parallel-item {display: flex;flex-direction: column;z-index: 1;position: relative;background-color: white;}#sk-container-id-1 div.sk-parallel-item:first-child::after {align-self: flex-end;width: 50%;}#sk-container-id-1 div.sk-parallel-item:last-child::after {align-self: flex-start;width: 50%;}#sk-container-id-1 div.sk-parallel-item:only-child::after {width: 0;}#sk-container-id-1 div.sk-dashed-wrapped {border: 1px dashed gray;margin: 0 0.4em 0.5em 0.4em;box-sizing: border-box;padding-bottom: 0.4em;background-color: white;}#sk-container-id-1 div.sk-label label {font-family: monospace;font-weight: bold;display: inline-block;line-height: 1.2em;}#sk-container-id-1 div.sk-label-container {text-align: center;}#sk-container-id-1 div.sk-container {/* jupyter's `normalize.less` sets `[hidden] { display: none; }` but bootstrap.min.css set `[hidden] { display: none !important; }` so we also need the `!important` here to be able to override the default hidden behavior on the sphinx rendered scikit-learn.org. See: https://github.com/scikit-learn/scikit-learn/issues/21755 */display: inline-block !important;position: relative;}#sk-container-id-1 div.sk-text-repr-fallback {display: none;}</style><div id=\"sk-container-id-1\" class=\"sk-top-container\"><div class=\"sk-text-repr-fallback\"><pre>RandomForestRegressor(random_state=42)</pre><b>In a Jupyter environment, please rerun this cell to show the HTML representation or trust the notebook. <br />On GitHub, the HTML representation is unable to render, please try loading this page with nbviewer.org.</b></div><div class=\"sk-container\" hidden><div class=\"sk-item\"><div class=\"sk-estimator sk-toggleable\"><input class=\"sk-toggleable__control sk-hidden--visually\" id=\"sk-estimator-id-1\" type=\"checkbox\" checked><label for=\"sk-estimator-id-1\" class=\"sk-toggleable__label sk-toggleable__label-arrow\">RandomForestRegressor</label><div class=\"sk-toggleable__content\"><pre>RandomForestRegressor(random_state=42)</pre></div></div></div></div></div>"
      ],
      "text/plain": [
       "RandomForestRegressor(random_state=42)"
      ]
     },
     "execution_count": 41,
     "metadata": {},
     "output_type": "execute_result"
    }
   ],
   "source": [
    "from sklearn.linear_model import LinearRegression\n",
    "from sklearn.ensemble import RandomForestRegressor\n",
    "from sklearn.metrics import mean_absolute_error, mean_squared_error, r2_score\n",
    "\n",
    "# Initialize models\n",
    "lr_model = LinearRegression()\n",
    "rf_model = RandomForestRegressor(random_state=42)\n",
    "\n",
    "# Train Linear Regression\n",
    "lr_model.fit(X_train, y_train)\n",
    "\n",
    "# Train Random Forest Regressor\n",
    "rf_model.fit(X_train, y_train)\n"
   ]
  },
  {
   "cell_type": "markdown",
   "id": "ca7ae0ff",
   "metadata": {},
   "source": [
    "# 5. Model Evaluation\n"
   ]
  },
  {
   "cell_type": "markdown",
   "id": "ffae9c65",
   "metadata": {},
   "source": [
    "Evaluating Models"
   ]
  },
  {
   "cell_type": "code",
   "execution_count": 43,
   "id": "2eb46517",
   "metadata": {},
   "outputs": [],
   "source": [
    "# Make predictions\n",
    "y_pred_lr = lr_model.predict(X_test)\n",
    "y_pred_rf = rf_model.predict(X_test)\n",
    "\n"
   ]
  },
  {
   "cell_type": "code",
   "execution_count": 45,
   "id": "d6464fe7",
   "metadata": {},
   "outputs": [
    {
     "name": "stdout",
     "output_type": "stream",
     "text": [
      "Linear Regression - MAE: 4026.7808774035466, MSE: 46753532.101031, RMSE: 6837.655453518479, R2: 0.9626399702009055\n",
      "Random Forest - MAE: 4123.2525553447185, MSE: 54393199.11467526, RMSE: 7375.174514184411, R2: 0.9565352295650935\n"
     ]
    }
   ],
   "source": [
    "# Define evaluation metrics\n",
    "def evaluate_model(y_true, y_pred):\n",
    "    mae = mean_absolute_error(y_true, y_pred)\n",
    "    mse = mean_squared_error(y_true, y_pred)\n",
    "    rmse = np.sqrt(mse)\n",
    "    r2 = r2_score(y_true, y_pred)\n",
    "    return mae, mse, rmse, r2\n",
    "\n",
    "# Evaluate Linear Regression\n",
    "lr_metrics = evaluate_model(y_test, y_pred_lr)\n",
    "print(f'Linear Regression - MAE: {lr_metrics[0]}, MSE: {lr_metrics[1]}, RMSE: {lr_metrics[2]}, R2: {lr_metrics[3]}')\n",
    "\n",
    "# Evaluate Random Forest\n",
    "rf_metrics = evaluate_model(y_test, y_pred_rf)\n",
    "print(f'Random Forest - MAE: {rf_metrics[0]}, MSE: {rf_metrics[1]}, RMSE: {rf_metrics[2]}, R2: {rf_metrics[3]}')\n"
   ]
  },
  {
   "cell_type": "markdown",
   "id": "a5c1106b",
   "metadata": {},
   "source": [
    "# 6. ML Pipelines and Model Deployment\n"
   ]
  },
  {
   "cell_type": "code",
   "execution_count": 48,
   "id": "8fd9dd61",
   "metadata": {},
   "outputs": [],
   "source": [
    "from sklearn.pipeline import Pipeline\n",
    "from sklearn.preprocessing import StandardScaler, OneHotEncoder\n",
    "from sklearn.compose import ColumnTransformer\n",
    "from sklearn.impute import SimpleImputer\n",
    "from sklearn.ensemble import RandomForestRegressor\n",
    "import joblib\n"
   ]
  },
  {
   "cell_type": "code",
   "execution_count": 49,
   "id": "5bf9b6e0",
   "metadata": {},
   "outputs": [],
   "source": [
    "\n",
    "# Sample DataFrame setup\n",
    "data = {\n",
    "    'AGE': [25, 32, 47],\n",
    "    'PAST EXP': [2, 10, 20],\n",
    "    'SEX': ['M', 'F', 'M'],\n",
    "    'DESIGNATION': ['Data Scientist', 'Data Engineer', 'Analyst'],\n",
    "    'UNIT': ['R&D', 'IT', 'Finance']\n",
    "}\n",
    "X_train = pd.DataFrame(data)"
   ]
  },
  {
   "cell_type": "code",
   "execution_count": 50,
   "id": "65ec3b8c",
   "metadata": {},
   "outputs": [
    {
     "data": {
      "text/html": [
       "<div>\n",
       "<style scoped>\n",
       "    .dataframe tbody tr th:only-of-type {\n",
       "        vertical-align: middle;\n",
       "    }\n",
       "\n",
       "    .dataframe tbody tr th {\n",
       "        vertical-align: top;\n",
       "    }\n",
       "\n",
       "    .dataframe thead th {\n",
       "        text-align: right;\n",
       "    }\n",
       "</style>\n",
       "<table border=\"1\" class=\"dataframe\">\n",
       "  <thead>\n",
       "    <tr style=\"text-align: right;\">\n",
       "      <th></th>\n",
       "      <th>AGE</th>\n",
       "      <th>PAST EXP</th>\n",
       "      <th>SEX</th>\n",
       "      <th>DESIGNATION</th>\n",
       "      <th>UNIT</th>\n",
       "    </tr>\n",
       "  </thead>\n",
       "  <tbody>\n",
       "    <tr>\n",
       "      <th>0</th>\n",
       "      <td>25</td>\n",
       "      <td>2</td>\n",
       "      <td>M</td>\n",
       "      <td>Data Scientist</td>\n",
       "      <td>R&amp;D</td>\n",
       "    </tr>\n",
       "    <tr>\n",
       "      <th>1</th>\n",
       "      <td>32</td>\n",
       "      <td>10</td>\n",
       "      <td>F</td>\n",
       "      <td>Data Engineer</td>\n",
       "      <td>IT</td>\n",
       "    </tr>\n",
       "    <tr>\n",
       "      <th>2</th>\n",
       "      <td>47</td>\n",
       "      <td>20</td>\n",
       "      <td>M</td>\n",
       "      <td>Analyst</td>\n",
       "      <td>Finance</td>\n",
       "    </tr>\n",
       "  </tbody>\n",
       "</table>\n",
       "</div>"
      ],
      "text/plain": [
       "   AGE  PAST EXP SEX     DESIGNATION     UNIT\n",
       "0   25         2   M  Data Scientist      R&D\n",
       "1   32        10   F   Data Engineer       IT\n",
       "2   47        20   M         Analyst  Finance"
      ]
     },
     "execution_count": 50,
     "metadata": {},
     "output_type": "execute_result"
    }
   ],
   "source": [
    "X_train"
   ]
  },
  {
   "cell_type": "code",
   "execution_count": 51,
   "id": "7c38bf9e",
   "metadata": {},
   "outputs": [],
   "source": [
    "# Example target values (make sure this has the same length as X_train rows)\n",
    "y_train = [50000, 120000, 70000]"
   ]
  },
  {
   "cell_type": "code",
   "execution_count": 52,
   "id": "6e8ce726",
   "metadata": {},
   "outputs": [
    {
     "name": "stdout",
     "output_type": "stream",
     "text": [
      "Shape of X_train: (3, 5)\n",
      "Length of y_train: 3\n"
     ]
    }
   ],
   "source": [
    "# Print the shapes to verify\n",
    "print(\"Shape of X_train:\", X_train.shape)\n",
    "print(\"Length of y_train:\", len(y_train))\n"
   ]
  },
  {
   "cell_type": "code",
   "execution_count": 53,
   "id": "bfcdb242",
   "metadata": {},
   "outputs": [
    {
     "name": "stdout",
     "output_type": "stream",
     "text": [
      "Numerical Features: set()\n",
      "Categorical Features: set()\n"
     ]
    }
   ],
   "source": [
    "# Define your columns\n",
    "numerical_features = ['AGE', 'PAST EXP']\n",
    "categorical_features = ['SEX', 'DESIGNATION', 'UNIT']\n",
    "\n",
    "# Check if the columns are present in X_train\n",
    "print(\"Numerical Features:\", set(numerical_features).difference(X_train.columns))\n",
    "print(\"Categorical Features:\", set(categorical_features).difference(X_train.columns))\n",
    "\n",
    "\n"
   ]
  },
  {
   "cell_type": "code",
   "execution_count": 54,
   "id": "81de945a",
   "metadata": {},
   "outputs": [
    {
     "name": "stdout",
     "output_type": "stream",
     "text": [
      "<class 'pandas.core.frame.DataFrame'>\n",
      "Index(['AGE', 'PAST EXP', 'SEX', 'DESIGNATION', 'UNIT'], dtype='object')\n"
     ]
    }
   ],
   "source": [
    "# Ensure X_train is a DataFrame with correct columns\n",
    "print(type(X_train))\n",
    "print(X_train.columns)\n",
    "\n",
    "\n"
   ]
  },
  {
   "cell_type": "code",
   "execution_count": 56,
   "id": "02cc3e6c",
   "metadata": {},
   "outputs": [],
   "source": [
    "# Define the transformations for numerical features\n",
    "numerical_transformer = Pipeline(steps=[\n",
    "    ('imputer', SimpleImputer(strategy='mean')),\n",
    "    ('scaler', StandardScaler())\n",
    "])\n",
    "\n"
   ]
  },
  {
   "cell_type": "code",
   "execution_count": 57,
   "id": "6af5599a",
   "metadata": {},
   "outputs": [],
   "source": [
    "# Define the transformations for categorical features\n",
    "categorical_transformer = Pipeline(steps=[\n",
    "    ('imputer', SimpleImputer(strategy='most_frequent')),\n",
    "    ('onehot', OneHotEncoder(handle_unknown='ignore'))\n",
    "])"
   ]
  },
  {
   "cell_type": "code",
   "execution_count": 58,
   "id": "267f6beb",
   "metadata": {},
   "outputs": [],
   "source": [
    "# Combine the transformers into a preprocessor\n",
    "preprocessor = ColumnTransformer(\n",
    "    transformers=[\n",
    "        ('num', numerical_transformer, numerical_features),\n",
    "        ('cat', categorical_transformer, categorical_features)\n",
    "    ])\n",
    "\n",
    "\n"
   ]
  },
  {
   "cell_type": "code",
   "execution_count": 59,
   "id": "560734eb",
   "metadata": {},
   "outputs": [],
   "source": [
    "# Define the model\n",
    "model = RandomForestRegressor(n_estimators=100, random_state=0)\n",
    "\n"
   ]
  },
  {
   "cell_type": "code",
   "execution_count": 60,
   "id": "c4064a47",
   "metadata": {},
   "outputs": [
    {
     "data": {
      "text/html": [
       "<style>#sk-container-id-2 {color: black;}#sk-container-id-2 pre{padding: 0;}#sk-container-id-2 div.sk-toggleable {background-color: white;}#sk-container-id-2 label.sk-toggleable__label {cursor: pointer;display: block;width: 100%;margin-bottom: 0;padding: 0.3em;box-sizing: border-box;text-align: center;}#sk-container-id-2 label.sk-toggleable__label-arrow:before {content: \"▸\";float: left;margin-right: 0.25em;color: #696969;}#sk-container-id-2 label.sk-toggleable__label-arrow:hover:before {color: black;}#sk-container-id-2 div.sk-estimator:hover label.sk-toggleable__label-arrow:before {color: black;}#sk-container-id-2 div.sk-toggleable__content {max-height: 0;max-width: 0;overflow: hidden;text-align: left;background-color: #f0f8ff;}#sk-container-id-2 div.sk-toggleable__content pre {margin: 0.2em;color: black;border-radius: 0.25em;background-color: #f0f8ff;}#sk-container-id-2 input.sk-toggleable__control:checked~div.sk-toggleable__content {max-height: 200px;max-width: 100%;overflow: auto;}#sk-container-id-2 input.sk-toggleable__control:checked~label.sk-toggleable__label-arrow:before {content: \"▾\";}#sk-container-id-2 div.sk-estimator input.sk-toggleable__control:checked~label.sk-toggleable__label {background-color: #d4ebff;}#sk-container-id-2 div.sk-label input.sk-toggleable__control:checked~label.sk-toggleable__label {background-color: #d4ebff;}#sk-container-id-2 input.sk-hidden--visually {border: 0;clip: rect(1px 1px 1px 1px);clip: rect(1px, 1px, 1px, 1px);height: 1px;margin: -1px;overflow: hidden;padding: 0;position: absolute;width: 1px;}#sk-container-id-2 div.sk-estimator {font-family: monospace;background-color: #f0f8ff;border: 1px dotted black;border-radius: 0.25em;box-sizing: border-box;margin-bottom: 0.5em;}#sk-container-id-2 div.sk-estimator:hover {background-color: #d4ebff;}#sk-container-id-2 div.sk-parallel-item::after {content: \"\";width: 100%;border-bottom: 1px solid gray;flex-grow: 1;}#sk-container-id-2 div.sk-label:hover label.sk-toggleable__label {background-color: #d4ebff;}#sk-container-id-2 div.sk-serial::before {content: \"\";position: absolute;border-left: 1px solid gray;box-sizing: border-box;top: 0;bottom: 0;left: 50%;z-index: 0;}#sk-container-id-2 div.sk-serial {display: flex;flex-direction: column;align-items: center;background-color: white;padding-right: 0.2em;padding-left: 0.2em;position: relative;}#sk-container-id-2 div.sk-item {position: relative;z-index: 1;}#sk-container-id-2 div.sk-parallel {display: flex;align-items: stretch;justify-content: center;background-color: white;position: relative;}#sk-container-id-2 div.sk-item::before, #sk-container-id-2 div.sk-parallel-item::before {content: \"\";position: absolute;border-left: 1px solid gray;box-sizing: border-box;top: 0;bottom: 0;left: 50%;z-index: -1;}#sk-container-id-2 div.sk-parallel-item {display: flex;flex-direction: column;z-index: 1;position: relative;background-color: white;}#sk-container-id-2 div.sk-parallel-item:first-child::after {align-self: flex-end;width: 50%;}#sk-container-id-2 div.sk-parallel-item:last-child::after {align-self: flex-start;width: 50%;}#sk-container-id-2 div.sk-parallel-item:only-child::after {width: 0;}#sk-container-id-2 div.sk-dashed-wrapped {border: 1px dashed gray;margin: 0 0.4em 0.5em 0.4em;box-sizing: border-box;padding-bottom: 0.4em;background-color: white;}#sk-container-id-2 div.sk-label label {font-family: monospace;font-weight: bold;display: inline-block;line-height: 1.2em;}#sk-container-id-2 div.sk-label-container {text-align: center;}#sk-container-id-2 div.sk-container {/* jupyter's `normalize.less` sets `[hidden] { display: none; }` but bootstrap.min.css set `[hidden] { display: none !important; }` so we also need the `!important` here to be able to override the default hidden behavior on the sphinx rendered scikit-learn.org. See: https://github.com/scikit-learn/scikit-learn/issues/21755 */display: inline-block !important;position: relative;}#sk-container-id-2 div.sk-text-repr-fallback {display: none;}</style><div id=\"sk-container-id-2\" class=\"sk-top-container\"><div class=\"sk-text-repr-fallback\"><pre>Pipeline(steps=[(&#x27;preprocessor&#x27;,\n",
       "                 ColumnTransformer(transformers=[(&#x27;num&#x27;,\n",
       "                                                  Pipeline(steps=[(&#x27;imputer&#x27;,\n",
       "                                                                   SimpleImputer()),\n",
       "                                                                  (&#x27;scaler&#x27;,\n",
       "                                                                   StandardScaler())]),\n",
       "                                                  [&#x27;AGE&#x27;, &#x27;PAST EXP&#x27;]),\n",
       "                                                 (&#x27;cat&#x27;,\n",
       "                                                  Pipeline(steps=[(&#x27;imputer&#x27;,\n",
       "                                                                   SimpleImputer(strategy=&#x27;most_frequent&#x27;)),\n",
       "                                                                  (&#x27;onehot&#x27;,\n",
       "                                                                   OneHotEncoder(handle_unknown=&#x27;ignore&#x27;))]),\n",
       "                                                  [&#x27;SEX&#x27;, &#x27;DESIGNATION&#x27;,\n",
       "                                                   &#x27;UNIT&#x27;])])),\n",
       "                (&#x27;model&#x27;, RandomForestRegressor(random_state=0))])</pre><b>In a Jupyter environment, please rerun this cell to show the HTML representation or trust the notebook. <br />On GitHub, the HTML representation is unable to render, please try loading this page with nbviewer.org.</b></div><div class=\"sk-container\" hidden><div class=\"sk-item sk-dashed-wrapped\"><div class=\"sk-label-container\"><div class=\"sk-label sk-toggleable\"><input class=\"sk-toggleable__control sk-hidden--visually\" id=\"sk-estimator-id-2\" type=\"checkbox\" ><label for=\"sk-estimator-id-2\" class=\"sk-toggleable__label sk-toggleable__label-arrow\">Pipeline</label><div class=\"sk-toggleable__content\"><pre>Pipeline(steps=[(&#x27;preprocessor&#x27;,\n",
       "                 ColumnTransformer(transformers=[(&#x27;num&#x27;,\n",
       "                                                  Pipeline(steps=[(&#x27;imputer&#x27;,\n",
       "                                                                   SimpleImputer()),\n",
       "                                                                  (&#x27;scaler&#x27;,\n",
       "                                                                   StandardScaler())]),\n",
       "                                                  [&#x27;AGE&#x27;, &#x27;PAST EXP&#x27;]),\n",
       "                                                 (&#x27;cat&#x27;,\n",
       "                                                  Pipeline(steps=[(&#x27;imputer&#x27;,\n",
       "                                                                   SimpleImputer(strategy=&#x27;most_frequent&#x27;)),\n",
       "                                                                  (&#x27;onehot&#x27;,\n",
       "                                                                   OneHotEncoder(handle_unknown=&#x27;ignore&#x27;))]),\n",
       "                                                  [&#x27;SEX&#x27;, &#x27;DESIGNATION&#x27;,\n",
       "                                                   &#x27;UNIT&#x27;])])),\n",
       "                (&#x27;model&#x27;, RandomForestRegressor(random_state=0))])</pre></div></div></div><div class=\"sk-serial\"><div class=\"sk-item sk-dashed-wrapped\"><div class=\"sk-label-container\"><div class=\"sk-label sk-toggleable\"><input class=\"sk-toggleable__control sk-hidden--visually\" id=\"sk-estimator-id-3\" type=\"checkbox\" ><label for=\"sk-estimator-id-3\" class=\"sk-toggleable__label sk-toggleable__label-arrow\">preprocessor: ColumnTransformer</label><div class=\"sk-toggleable__content\"><pre>ColumnTransformer(transformers=[(&#x27;num&#x27;,\n",
       "                                 Pipeline(steps=[(&#x27;imputer&#x27;, SimpleImputer()),\n",
       "                                                 (&#x27;scaler&#x27;, StandardScaler())]),\n",
       "                                 [&#x27;AGE&#x27;, &#x27;PAST EXP&#x27;]),\n",
       "                                (&#x27;cat&#x27;,\n",
       "                                 Pipeline(steps=[(&#x27;imputer&#x27;,\n",
       "                                                  SimpleImputer(strategy=&#x27;most_frequent&#x27;)),\n",
       "                                                 (&#x27;onehot&#x27;,\n",
       "                                                  OneHotEncoder(handle_unknown=&#x27;ignore&#x27;))]),\n",
       "                                 [&#x27;SEX&#x27;, &#x27;DESIGNATION&#x27;, &#x27;UNIT&#x27;])])</pre></div></div></div><div class=\"sk-parallel\"><div class=\"sk-parallel-item\"><div class=\"sk-item\"><div class=\"sk-label-container\"><div class=\"sk-label sk-toggleable\"><input class=\"sk-toggleable__control sk-hidden--visually\" id=\"sk-estimator-id-4\" type=\"checkbox\" ><label for=\"sk-estimator-id-4\" class=\"sk-toggleable__label sk-toggleable__label-arrow\">num</label><div class=\"sk-toggleable__content\"><pre>[&#x27;AGE&#x27;, &#x27;PAST EXP&#x27;]</pre></div></div></div><div class=\"sk-serial\"><div class=\"sk-item\"><div class=\"sk-serial\"><div class=\"sk-item\"><div class=\"sk-estimator sk-toggleable\"><input class=\"sk-toggleable__control sk-hidden--visually\" id=\"sk-estimator-id-5\" type=\"checkbox\" ><label for=\"sk-estimator-id-5\" class=\"sk-toggleable__label sk-toggleable__label-arrow\">SimpleImputer</label><div class=\"sk-toggleable__content\"><pre>SimpleImputer()</pre></div></div></div><div class=\"sk-item\"><div class=\"sk-estimator sk-toggleable\"><input class=\"sk-toggleable__control sk-hidden--visually\" id=\"sk-estimator-id-6\" type=\"checkbox\" ><label for=\"sk-estimator-id-6\" class=\"sk-toggleable__label sk-toggleable__label-arrow\">StandardScaler</label><div class=\"sk-toggleable__content\"><pre>StandardScaler()</pre></div></div></div></div></div></div></div></div><div class=\"sk-parallel-item\"><div class=\"sk-item\"><div class=\"sk-label-container\"><div class=\"sk-label sk-toggleable\"><input class=\"sk-toggleable__control sk-hidden--visually\" id=\"sk-estimator-id-7\" type=\"checkbox\" ><label for=\"sk-estimator-id-7\" class=\"sk-toggleable__label sk-toggleable__label-arrow\">cat</label><div class=\"sk-toggleable__content\"><pre>[&#x27;SEX&#x27;, &#x27;DESIGNATION&#x27;, &#x27;UNIT&#x27;]</pre></div></div></div><div class=\"sk-serial\"><div class=\"sk-item\"><div class=\"sk-serial\"><div class=\"sk-item\"><div class=\"sk-estimator sk-toggleable\"><input class=\"sk-toggleable__control sk-hidden--visually\" id=\"sk-estimator-id-8\" type=\"checkbox\" ><label for=\"sk-estimator-id-8\" class=\"sk-toggleable__label sk-toggleable__label-arrow\">SimpleImputer</label><div class=\"sk-toggleable__content\"><pre>SimpleImputer(strategy=&#x27;most_frequent&#x27;)</pre></div></div></div><div class=\"sk-item\"><div class=\"sk-estimator sk-toggleable\"><input class=\"sk-toggleable__control sk-hidden--visually\" id=\"sk-estimator-id-9\" type=\"checkbox\" ><label for=\"sk-estimator-id-9\" class=\"sk-toggleable__label sk-toggleable__label-arrow\">OneHotEncoder</label><div class=\"sk-toggleable__content\"><pre>OneHotEncoder(handle_unknown=&#x27;ignore&#x27;)</pre></div></div></div></div></div></div></div></div></div></div><div class=\"sk-item\"><div class=\"sk-estimator sk-toggleable\"><input class=\"sk-toggleable__control sk-hidden--visually\" id=\"sk-estimator-id-10\" type=\"checkbox\" ><label for=\"sk-estimator-id-10\" class=\"sk-toggleable__label sk-toggleable__label-arrow\">RandomForestRegressor</label><div class=\"sk-toggleable__content\"><pre>RandomForestRegressor(random_state=0)</pre></div></div></div></div></div></div></div>"
      ],
      "text/plain": [
       "Pipeline(steps=[('preprocessor',\n",
       "                 ColumnTransformer(transformers=[('num',\n",
       "                                                  Pipeline(steps=[('imputer',\n",
       "                                                                   SimpleImputer()),\n",
       "                                                                  ('scaler',\n",
       "                                                                   StandardScaler())]),\n",
       "                                                  ['AGE', 'PAST EXP']),\n",
       "                                                 ('cat',\n",
       "                                                  Pipeline(steps=[('imputer',\n",
       "                                                                   SimpleImputer(strategy='most_frequent')),\n",
       "                                                                  ('onehot',\n",
       "                                                                   OneHotEncoder(handle_unknown='ignore'))]),\n",
       "                                                  ['SEX', 'DESIGNATION',\n",
       "                                                   'UNIT'])])),\n",
       "                ('model', RandomForestRegressor(random_state=0))])"
      ]
     },
     "execution_count": 60,
     "metadata": {},
     "output_type": "execute_result"
    }
   ],
   "source": [
    "# Create the pipeline\n",
    "pipeline = Pipeline(steps=[\n",
    "    ('preprocessor', preprocessor),\n",
    "    ('model', model)\n",
    "])\n",
    "\n",
    "# Fit the pipeline\n",
    "pipeline.fit(X_train, [50000, 120000, 70000])  # Example target values\n",
    "\n"
   ]
  },
  {
   "cell_type": "code",
   "execution_count": 61,
   "id": "2ea63e0f",
   "metadata": {},
   "outputs": [
    {
     "name": "stdout",
     "output_type": "stream",
     "text": [
      "[ 67700. 102900.  76000.]\n"
     ]
    }
   ],
   "source": [
    "# Make predictions\n",
    "print(pipeline.predict(X_train))"
   ]
  },
  {
   "cell_type": "code",
   "execution_count": 62,
   "id": "afd75842",
   "metadata": {},
   "outputs": [],
   "source": [
    "# Create a pipeline that combines the preprocessor with the model\n",
    "pipeline = Pipeline(steps=[\n",
    "    ('preprocessor', preprocessor),\n",
    "    ('model', RandomForestRegressor(n_estimators=100, random_state=42))\n",
    "])"
   ]
  },
  {
   "cell_type": "code",
   "execution_count": 63,
   "id": "c8c06f93",
   "metadata": {
    "scrolled": true
   },
   "outputs": [
    {
     "data": {
      "text/html": [
       "<style>#sk-container-id-3 {color: black;}#sk-container-id-3 pre{padding: 0;}#sk-container-id-3 div.sk-toggleable {background-color: white;}#sk-container-id-3 label.sk-toggleable__label {cursor: pointer;display: block;width: 100%;margin-bottom: 0;padding: 0.3em;box-sizing: border-box;text-align: center;}#sk-container-id-3 label.sk-toggleable__label-arrow:before {content: \"▸\";float: left;margin-right: 0.25em;color: #696969;}#sk-container-id-3 label.sk-toggleable__label-arrow:hover:before {color: black;}#sk-container-id-3 div.sk-estimator:hover label.sk-toggleable__label-arrow:before {color: black;}#sk-container-id-3 div.sk-toggleable__content {max-height: 0;max-width: 0;overflow: hidden;text-align: left;background-color: #f0f8ff;}#sk-container-id-3 div.sk-toggleable__content pre {margin: 0.2em;color: black;border-radius: 0.25em;background-color: #f0f8ff;}#sk-container-id-3 input.sk-toggleable__control:checked~div.sk-toggleable__content {max-height: 200px;max-width: 100%;overflow: auto;}#sk-container-id-3 input.sk-toggleable__control:checked~label.sk-toggleable__label-arrow:before {content: \"▾\";}#sk-container-id-3 div.sk-estimator input.sk-toggleable__control:checked~label.sk-toggleable__label {background-color: #d4ebff;}#sk-container-id-3 div.sk-label input.sk-toggleable__control:checked~label.sk-toggleable__label {background-color: #d4ebff;}#sk-container-id-3 input.sk-hidden--visually {border: 0;clip: rect(1px 1px 1px 1px);clip: rect(1px, 1px, 1px, 1px);height: 1px;margin: -1px;overflow: hidden;padding: 0;position: absolute;width: 1px;}#sk-container-id-3 div.sk-estimator {font-family: monospace;background-color: #f0f8ff;border: 1px dotted black;border-radius: 0.25em;box-sizing: border-box;margin-bottom: 0.5em;}#sk-container-id-3 div.sk-estimator:hover {background-color: #d4ebff;}#sk-container-id-3 div.sk-parallel-item::after {content: \"\";width: 100%;border-bottom: 1px solid gray;flex-grow: 1;}#sk-container-id-3 div.sk-label:hover label.sk-toggleable__label {background-color: #d4ebff;}#sk-container-id-3 div.sk-serial::before {content: \"\";position: absolute;border-left: 1px solid gray;box-sizing: border-box;top: 0;bottom: 0;left: 50%;z-index: 0;}#sk-container-id-3 div.sk-serial {display: flex;flex-direction: column;align-items: center;background-color: white;padding-right: 0.2em;padding-left: 0.2em;position: relative;}#sk-container-id-3 div.sk-item {position: relative;z-index: 1;}#sk-container-id-3 div.sk-parallel {display: flex;align-items: stretch;justify-content: center;background-color: white;position: relative;}#sk-container-id-3 div.sk-item::before, #sk-container-id-3 div.sk-parallel-item::before {content: \"\";position: absolute;border-left: 1px solid gray;box-sizing: border-box;top: 0;bottom: 0;left: 50%;z-index: -1;}#sk-container-id-3 div.sk-parallel-item {display: flex;flex-direction: column;z-index: 1;position: relative;background-color: white;}#sk-container-id-3 div.sk-parallel-item:first-child::after {align-self: flex-end;width: 50%;}#sk-container-id-3 div.sk-parallel-item:last-child::after {align-self: flex-start;width: 50%;}#sk-container-id-3 div.sk-parallel-item:only-child::after {width: 0;}#sk-container-id-3 div.sk-dashed-wrapped {border: 1px dashed gray;margin: 0 0.4em 0.5em 0.4em;box-sizing: border-box;padding-bottom: 0.4em;background-color: white;}#sk-container-id-3 div.sk-label label {font-family: monospace;font-weight: bold;display: inline-block;line-height: 1.2em;}#sk-container-id-3 div.sk-label-container {text-align: center;}#sk-container-id-3 div.sk-container {/* jupyter's `normalize.less` sets `[hidden] { display: none; }` but bootstrap.min.css set `[hidden] { display: none !important; }` so we also need the `!important` here to be able to override the default hidden behavior on the sphinx rendered scikit-learn.org. See: https://github.com/scikit-learn/scikit-learn/issues/21755 */display: inline-block !important;position: relative;}#sk-container-id-3 div.sk-text-repr-fallback {display: none;}</style><div id=\"sk-container-id-3\" class=\"sk-top-container\"><div class=\"sk-text-repr-fallback\"><pre>Pipeline(steps=[(&#x27;preprocessor&#x27;,\n",
       "                 ColumnTransformer(transformers=[(&#x27;num&#x27;,\n",
       "                                                  Pipeline(steps=[(&#x27;imputer&#x27;,\n",
       "                                                                   SimpleImputer()),\n",
       "                                                                  (&#x27;scaler&#x27;,\n",
       "                                                                   StandardScaler())]),\n",
       "                                                  [&#x27;AGE&#x27;, &#x27;PAST EXP&#x27;]),\n",
       "                                                 (&#x27;cat&#x27;,\n",
       "                                                  Pipeline(steps=[(&#x27;imputer&#x27;,\n",
       "                                                                   SimpleImputer(strategy=&#x27;most_frequent&#x27;)),\n",
       "                                                                  (&#x27;onehot&#x27;,\n",
       "                                                                   OneHotEncoder(handle_unknown=&#x27;ignore&#x27;))]),\n",
       "                                                  [&#x27;SEX&#x27;, &#x27;DESIGNATION&#x27;,\n",
       "                                                   &#x27;UNIT&#x27;])])),\n",
       "                (&#x27;model&#x27;, RandomForestRegressor(random_state=42))])</pre><b>In a Jupyter environment, please rerun this cell to show the HTML representation or trust the notebook. <br />On GitHub, the HTML representation is unable to render, please try loading this page with nbviewer.org.</b></div><div class=\"sk-container\" hidden><div class=\"sk-item sk-dashed-wrapped\"><div class=\"sk-label-container\"><div class=\"sk-label sk-toggleable\"><input class=\"sk-toggleable__control sk-hidden--visually\" id=\"sk-estimator-id-11\" type=\"checkbox\" ><label for=\"sk-estimator-id-11\" class=\"sk-toggleable__label sk-toggleable__label-arrow\">Pipeline</label><div class=\"sk-toggleable__content\"><pre>Pipeline(steps=[(&#x27;preprocessor&#x27;,\n",
       "                 ColumnTransformer(transformers=[(&#x27;num&#x27;,\n",
       "                                                  Pipeline(steps=[(&#x27;imputer&#x27;,\n",
       "                                                                   SimpleImputer()),\n",
       "                                                                  (&#x27;scaler&#x27;,\n",
       "                                                                   StandardScaler())]),\n",
       "                                                  [&#x27;AGE&#x27;, &#x27;PAST EXP&#x27;]),\n",
       "                                                 (&#x27;cat&#x27;,\n",
       "                                                  Pipeline(steps=[(&#x27;imputer&#x27;,\n",
       "                                                                   SimpleImputer(strategy=&#x27;most_frequent&#x27;)),\n",
       "                                                                  (&#x27;onehot&#x27;,\n",
       "                                                                   OneHotEncoder(handle_unknown=&#x27;ignore&#x27;))]),\n",
       "                                                  [&#x27;SEX&#x27;, &#x27;DESIGNATION&#x27;,\n",
       "                                                   &#x27;UNIT&#x27;])])),\n",
       "                (&#x27;model&#x27;, RandomForestRegressor(random_state=42))])</pre></div></div></div><div class=\"sk-serial\"><div class=\"sk-item sk-dashed-wrapped\"><div class=\"sk-label-container\"><div class=\"sk-label sk-toggleable\"><input class=\"sk-toggleable__control sk-hidden--visually\" id=\"sk-estimator-id-12\" type=\"checkbox\" ><label for=\"sk-estimator-id-12\" class=\"sk-toggleable__label sk-toggleable__label-arrow\">preprocessor: ColumnTransformer</label><div class=\"sk-toggleable__content\"><pre>ColumnTransformer(transformers=[(&#x27;num&#x27;,\n",
       "                                 Pipeline(steps=[(&#x27;imputer&#x27;, SimpleImputer()),\n",
       "                                                 (&#x27;scaler&#x27;, StandardScaler())]),\n",
       "                                 [&#x27;AGE&#x27;, &#x27;PAST EXP&#x27;]),\n",
       "                                (&#x27;cat&#x27;,\n",
       "                                 Pipeline(steps=[(&#x27;imputer&#x27;,\n",
       "                                                  SimpleImputer(strategy=&#x27;most_frequent&#x27;)),\n",
       "                                                 (&#x27;onehot&#x27;,\n",
       "                                                  OneHotEncoder(handle_unknown=&#x27;ignore&#x27;))]),\n",
       "                                 [&#x27;SEX&#x27;, &#x27;DESIGNATION&#x27;, &#x27;UNIT&#x27;])])</pre></div></div></div><div class=\"sk-parallel\"><div class=\"sk-parallel-item\"><div class=\"sk-item\"><div class=\"sk-label-container\"><div class=\"sk-label sk-toggleable\"><input class=\"sk-toggleable__control sk-hidden--visually\" id=\"sk-estimator-id-13\" type=\"checkbox\" ><label for=\"sk-estimator-id-13\" class=\"sk-toggleable__label sk-toggleable__label-arrow\">num</label><div class=\"sk-toggleable__content\"><pre>[&#x27;AGE&#x27;, &#x27;PAST EXP&#x27;]</pre></div></div></div><div class=\"sk-serial\"><div class=\"sk-item\"><div class=\"sk-serial\"><div class=\"sk-item\"><div class=\"sk-estimator sk-toggleable\"><input class=\"sk-toggleable__control sk-hidden--visually\" id=\"sk-estimator-id-14\" type=\"checkbox\" ><label for=\"sk-estimator-id-14\" class=\"sk-toggleable__label sk-toggleable__label-arrow\">SimpleImputer</label><div class=\"sk-toggleable__content\"><pre>SimpleImputer()</pre></div></div></div><div class=\"sk-item\"><div class=\"sk-estimator sk-toggleable\"><input class=\"sk-toggleable__control sk-hidden--visually\" id=\"sk-estimator-id-15\" type=\"checkbox\" ><label for=\"sk-estimator-id-15\" class=\"sk-toggleable__label sk-toggleable__label-arrow\">StandardScaler</label><div class=\"sk-toggleable__content\"><pre>StandardScaler()</pre></div></div></div></div></div></div></div></div><div class=\"sk-parallel-item\"><div class=\"sk-item\"><div class=\"sk-label-container\"><div class=\"sk-label sk-toggleable\"><input class=\"sk-toggleable__control sk-hidden--visually\" id=\"sk-estimator-id-16\" type=\"checkbox\" ><label for=\"sk-estimator-id-16\" class=\"sk-toggleable__label sk-toggleable__label-arrow\">cat</label><div class=\"sk-toggleable__content\"><pre>[&#x27;SEX&#x27;, &#x27;DESIGNATION&#x27;, &#x27;UNIT&#x27;]</pre></div></div></div><div class=\"sk-serial\"><div class=\"sk-item\"><div class=\"sk-serial\"><div class=\"sk-item\"><div class=\"sk-estimator sk-toggleable\"><input class=\"sk-toggleable__control sk-hidden--visually\" id=\"sk-estimator-id-17\" type=\"checkbox\" ><label for=\"sk-estimator-id-17\" class=\"sk-toggleable__label sk-toggleable__label-arrow\">SimpleImputer</label><div class=\"sk-toggleable__content\"><pre>SimpleImputer(strategy=&#x27;most_frequent&#x27;)</pre></div></div></div><div class=\"sk-item\"><div class=\"sk-estimator sk-toggleable\"><input class=\"sk-toggleable__control sk-hidden--visually\" id=\"sk-estimator-id-18\" type=\"checkbox\" ><label for=\"sk-estimator-id-18\" class=\"sk-toggleable__label sk-toggleable__label-arrow\">OneHotEncoder</label><div class=\"sk-toggleable__content\"><pre>OneHotEncoder(handle_unknown=&#x27;ignore&#x27;)</pre></div></div></div></div></div></div></div></div></div></div><div class=\"sk-item\"><div class=\"sk-estimator sk-toggleable\"><input class=\"sk-toggleable__control sk-hidden--visually\" id=\"sk-estimator-id-19\" type=\"checkbox\" ><label for=\"sk-estimator-id-19\" class=\"sk-toggleable__label sk-toggleable__label-arrow\">RandomForestRegressor</label><div class=\"sk-toggleable__content\"><pre>RandomForestRegressor(random_state=42)</pre></div></div></div></div></div></div></div>"
      ],
      "text/plain": [
       "Pipeline(steps=[('preprocessor',\n",
       "                 ColumnTransformer(transformers=[('num',\n",
       "                                                  Pipeline(steps=[('imputer',\n",
       "                                                                   SimpleImputer()),\n",
       "                                                                  ('scaler',\n",
       "                                                                   StandardScaler())]),\n",
       "                                                  ['AGE', 'PAST EXP']),\n",
       "                                                 ('cat',\n",
       "                                                  Pipeline(steps=[('imputer',\n",
       "                                                                   SimpleImputer(strategy='most_frequent')),\n",
       "                                                                  ('onehot',\n",
       "                                                                   OneHotEncoder(handle_unknown='ignore'))]),\n",
       "                                                  ['SEX', 'DESIGNATION',\n",
       "                                                   'UNIT'])])),\n",
       "                ('model', RandomForestRegressor(random_state=42))])"
      ]
     },
     "execution_count": 63,
     "metadata": {},
     "output_type": "execute_result"
    }
   ],
   "source": [
    "# Fit the pipeline on the training data\n",
    "pipeline.fit(X_train, y_train)\n"
   ]
  },
  {
   "cell_type": "code",
   "execution_count": 64,
   "id": "54c9463c",
   "metadata": {},
   "outputs": [
    {
     "data": {
      "text/plain": [
       "['salary_prediction_pipeline.pkl']"
      ]
     },
     "execution_count": 64,
     "metadata": {},
     "output_type": "execute_result"
    }
   ],
   "source": [
    "\n",
    "# Save the pipeline for future use\n",
    "import joblib\n",
    "joblib.dump(pipeline, 'salary_prediction_pipeline.pkl')"
   ]
  },
  {
   "cell_type": "code",
   "execution_count": 65,
   "id": "3a2f5e03",
   "metadata": {},
   "outputs": [],
   "source": [
    "loaded_pipeline = joblib.load('salary_prediction_pipeline.pkl')\n"
   ]
  },
  {
   "cell_type": "code",
   "execution_count": 66,
   "id": "0421d83c",
   "metadata": {},
   "outputs": [
    {
     "name": "stdout",
     "output_type": "stream",
     "text": [
      "Predictions on new data: [87500. 76600.]\n"
     ]
    }
   ],
   "source": [
    "# Load new data into a DataFrame (example new data)\n",
    "new_data = {\n",
    "    'AGE': [30, 40],\n",
    "    'PAST EXP': [5, 15],\n",
    "    'SEX': ['F', 'M'],\n",
    "    'DESIGNATION': ['Analyst', 'Manager'],\n",
    "    'UNIT': ['Marketing', 'Finance']\n",
    "}\n",
    "X_new = pd.DataFrame(new_data)\n",
    "\n",
    "# Predict salaries using the loaded pipeline\n",
    "new_predictions = loaded_pipeline.predict(X_new)\n",
    "print(\"Predictions on new data:\", new_predictions)\n"
   ]
  },
  {
   "cell_type": "code",
   "execution_count": null,
   "id": "ccf490d0",
   "metadata": {},
   "outputs": [],
   "source": []
  },
  {
   "cell_type": "code",
   "execution_count": null,
   "id": "9e472b90",
   "metadata": {},
   "outputs": [],
   "source": []
  }
 ],
 "metadata": {
  "kernelspec": {
   "display_name": "Python 3 (ipykernel)",
   "language": "python",
   "name": "python3"
  },
  "language_info": {
   "codemirror_mode": {
    "name": "ipython",
    "version": 3
   },
   "file_extension": ".py",
   "mimetype": "text/x-python",
   "name": "python",
   "nbconvert_exporter": "python",
   "pygments_lexer": "ipython3",
   "version": "3.11.5"
  }
 },
 "nbformat": 4,
 "nbformat_minor": 5
}
